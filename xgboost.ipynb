{
 "cells": [
  {
   "cell_type": "code",
   "execution_count": 1,
   "metadata": {},
   "outputs": [],
   "source": [
    "import os\n",
    "os.chdir('../iml-hack')\n",
    "os.curdir\n",
    "\n",
    "import numpy as np\n",
    "import torch\n",
    "import torch.nn as nn\n",
    "import torch.nn.functional as F\n",
    "import torch.optim as optim\n",
    "\n",
    "from sklearn.impute import SimpleImputer, KNNImputer\n",
    "from sklearn.preprocessing import StandardScaler\n",
    "\n",
    "import data_prep\n",
    "import utils\n",
    "\n",
    "from typing import List, Tuple\n",
    "\n",
    "import xgboost as xgb"
   ]
  },
  {
   "cell_type": "code",
   "execution_count": 2,
   "metadata": {},
   "outputs": [],
   "source": [
    "si = SimpleImputer(strategy='mean')\n",
    "knni = KNNImputer(n_neighbors=100)"
   ]
  },
  {
   "cell_type": "code",
   "execution_count": 3,
   "metadata": {},
   "outputs": [
    {
     "name": "stdout",
     "output_type": "stream",
     "text": [
      "28933\n",
      "0\n",
      "(8000, 126) (8000,)\n"
     ]
    }
   ],
   "source": [
    "data_x, data_y = data_prep.load_train(perform=False, group=True)\n",
    "print(np.isnan(data_x).sum())\n",
    "data_x = knni.fit_transform(data_x)\n",
    "print(np.isnan(data_x).sum())\n",
    "print(data_x.shape, data_y.shape)\n",
    "data_x = StandardScaler().fit_transform(data_x)"
   ]
  },
  {
   "cell_type": "code",
   "execution_count": 4,
   "metadata": {},
   "outputs": [],
   "source": [
    "folds = data_prep.prep_crossvalidation(data_x, data_y, batch_size=64, n_splits=5, seed=42, dataloader=False)\n",
    "train_dataset, val_dataset = folds[0]"
   ]
  },
  {
   "cell_type": "code",
   "execution_count": 5,
   "metadata": {},
   "outputs": [],
   "source": [
    "train_x, train_y = train_dataset"
   ]
  },
  {
   "cell_type": "code",
   "execution_count": 18,
   "metadata": {},
   "outputs": [],
   "source": [
    "custom_objective = utils.CustomCMLoss(alpha=1., beta=0.)\n",
    "xgb_classif = xgb.XGBClassifier(\n",
    "    objective=custom_objective,\n",
    "    learning_rate=0.01\n",
    "    )\n",
    "\n",
    "fitted = xgb_classif.fit(\n",
    "    train_x,\n",
    "    train_y,\n",
    ")"
   ]
  },
  {
   "cell_type": "code",
   "execution_count": 19,
   "metadata": {},
   "outputs": [
    {
     "data": {
      "text/plain": [
       "1.0875"
      ]
     },
     "execution_count": 19,
     "metadata": {},
     "output_type": "execute_result"
    }
   ],
   "source": [
    "utils.evaluate_xgb(fitted.predict(val_dataset[0]), val_dataset[1])"
   ]
  }
 ],
 "metadata": {
  "kernelspec": {
   "display_name": ".venv",
   "language": "python",
   "name": "python3"
  },
  "language_info": {
   "codemirror_mode": {
    "name": "ipython",
    "version": 3
   },
   "file_extension": ".py",
   "mimetype": "text/x-python",
   "name": "python",
   "nbconvert_exporter": "python",
   "pygments_lexer": "ipython3",
   "version": "3.12.0"
  }
 },
 "nbformat": 4,
 "nbformat_minor": 2
}
